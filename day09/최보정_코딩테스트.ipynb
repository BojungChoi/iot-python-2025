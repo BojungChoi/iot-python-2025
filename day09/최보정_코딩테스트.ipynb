{
 "cells": [
  {
   "cell_type": "markdown",
   "metadata": {},
   "source": [
    "1. 반지름 값을 입력받아 원의 넓이를 구하여 출력하는 프로그램을 구현하세요. π는 3.141592 입니다. 내부 모듈을 사용하여도 됩니다. "
   ]
  },
  {
   "cell_type": "code",
   "execution_count": null,
   "metadata": {},
   "outputs": [
    {
     "name": "stdout",
     "output_type": "stream",
     "text": [
      "원의 넓이는 78.53981633974483\n"
     ]
    }
   ],
   "source": [
    "from math import *\n",
    "\n",
    "radius = input('원의 반지름을 입력하세요 ->' ) \n",
    "radius  = float(radius)\n",
    "\n",
    "print(\"원의 넓이는\",radius **2 *pi)"
   ]
  },
  {
   "cell_type": "markdown",
   "metadata": {},
   "source": [
    "2. 영문이름을 입력하면 웹사이트 주소가 리턴되는 함수, get_url() 를  구현하세요.\n",
    "예) url = get_url('google') \n",
    "print(url) # www.google.com"
   ]
  },
  {
   "cell_type": "code",
   "execution_count": null,
   "metadata": {},
   "outputs": [
    {
     "name": "stdout",
     "output_type": "stream",
     "text": [
      "www.naver.com\n"
     ]
    }
   ],
   "source": [
    "name = input('사이트 이름을 입력하세요.(영문으로만 가능, 대소문자 구분필요X) -> ')\n",
    "\n",
    "def get_url(name):\n",
    "    return (f\"www.{name}.com\").lower()\n",
    "\n",
    "url = get_url(name)\n",
    "print(url)"
   ]
  },
  {
   "cell_type": "markdown",
   "metadata": {},
   "source": [
    "3. 구구단을 수행할 단번호를 입력하면 그 단의 9까지의 결과를 나열하는 프로그램을 입력하세요.\n",
    "예) 3 --> 3 6 9 12 15 18 21 24 27"
   ]
  },
  {
   "cell_type": "code",
   "execution_count": null,
   "metadata": {},
   "outputs": [
    {
     "name": "stdout",
     "output_type": "stream",
     "text": [
      "3단 시작 \n",
      "3 x 1 =  3\n",
      "3 x 2 =  6\n",
      "3 x 3 =  9\n",
      "3 x 4 = 12\n",
      "3 x 5 = 15\n",
      "3 x 6 = 18\n",
      "3 x 7 = 21\n",
      "3 x 8 = 24\n",
      "3 x 9 = 27\n",
      "========= 3 단을 종료합니다!  =========\n"
     ]
    }
   ],
   "source": [
    "x = input('단 수를 입력하세요>')\n",
    "x = int(x)\n",
    "print(f'{x}단 시작 ')\n",
    "\n",
    "for y in range (1, 10):\n",
    "\n",
    "    print (f'{x} x {y} = {x * y:2d}') \n",
    "\n",
    "print('=========', x,'단을 종료합니다!  =========')"
   ]
  },
  {
   "cell_type": "markdown",
   "metadata": {},
   "source": [
    "4.  입력한 수를 거꾸로 출력하는 프로그램을 구현하세요.\n",
    "예) 1 3 5 7 9 --> 9 7 5 3 1"
   ]
  },
  {
   "cell_type": "code",
   "execution_count": null,
   "metadata": {},
   "outputs": [
    {
     "name": "stdout",
     "output_type": "stream",
     "text": [
      "뒤집은 숫자 ->  9/8/7/6/5/4/3/2/1\n"
     ]
    }
   ],
   "source": [
    "numbers = input(\"숫자들을 입력하세요 (/로 구분)-> \").split('/')\n",
    "\n",
    "def reverseNumbers():\n",
    "\n",
    "    reversenum = \"/\".join(numbers[ : :-1])\n",
    "    \n",
    "    print(\"뒤집은 숫자 -> \", reversenum)\n",
    "\n",
    "reverseNumbers()\n"
   ]
  },
  {
   "cell_type": "markdown",
   "metadata": {},
   "source": [
    "5. SmartPhone 이라는 클래스를 만들고, 객체를 생성해서 phoneOwner, phoneNumber, company 등의 멤버변수(속성)을 가지도록 만드세요.(본인이 다른 기능을 좀 더 추가하여도 무방합니다)"
   ]
  },
  {
   "cell_type": "code",
   "execution_count": 100,
   "metadata": {},
   "outputs": [
    {
     "name": "stdout",
     "output_type": "stream",
     "text": [
      "SmartPhone Class!\n",
      "소유자: 최보정\n",
      "\n",
      "전화번호: 010-2758-8299\n",
      "\n",
      "제조사: 삼성갤럭시\n",
      "\n",
      "최보정님이 010-3333-4444로 전화를 겁니다.\n",
      "\n",
      "최보정님이 010-3333-4444로 안녕, 뽀룡아~ 라는 메시지를 보냅니다.\n"
     ]
    }
   ],
   "source": [
    "class SmartPhone:\n",
    "    def __init__(self, phoneOwner, phoneNumber, company):\n",
    "        self.phoneOwner = phoneOwner  # 전화기 소유자\n",
    "        self.phoneNumber = phoneNumber  # 전화번호\n",
    "        self.company = company  # 제조사\n",
    "\n",
    "    # 전화 걸기\n",
    "    def makeCall(self, phoneNumber):\n",
    "        print(f'{self.phoneOwner}님이 {phoneNumber}로 전화를 겁니다.\\n')\n",
    "\n",
    "    # 문자 보내기\n",
    "    def sendMessage(self, phoneNumber, message):\n",
    "        print(f'{self.phoneOwner}님이 {phoneNumber}로 {message} 라는 메시지를 보냅니다.')\n",
    "\n",
    "    # 전화기 정보 출력\n",
    "    def phoneInfo(self):\n",
    "        print(f'소유자: {self.phoneOwner}\\n')\n",
    "        print(f'전화번호: {self.phoneNumber}\\n')\n",
    "        print(f'제조사: {self.company}\\n')\n",
    "\n",
    "# SmartPhone 객체 생성\n",
    "my_phone = SmartPhone('최보정', '010-2758-8299', '삼성갤럭시')\n",
    "\n",
    "if __name__ == '__main__':\n",
    "    print('SmartPhone Class!')\n",
    "    my_phone.phoneInfo()  # 전화기 정보 출력\n",
    "    my_phone.makeCall(\"010-3333-4444\")  # 전화 걸기\n",
    "    my_phone.sendMessage(\"010-3333-4444\", \"안녕, 뽀룡아~\")  # 문자 보내기\n",
    "\n"
   ]
  }
 ],
 "metadata": {
  "kernelspec": {
   "display_name": "Python 3",
   "language": "python",
   "name": "python3"
  },
  "language_info": {
   "codemirror_mode": {
    "name": "ipython",
    "version": 3
   },
   "file_extension": ".py",
   "mimetype": "text/x-python",
   "name": "python",
   "nbconvert_exporter": "python",
   "pygments_lexer": "ipython3",
   "version": "3.11.9"
  }
 },
 "nbformat": 4,
 "nbformat_minor": 2
}
