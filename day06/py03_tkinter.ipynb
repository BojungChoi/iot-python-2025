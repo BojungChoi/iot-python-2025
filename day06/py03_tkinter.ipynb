{
 "cells": [
  {
   "cell_type": "markdown",
   "metadata": {},
   "source": [
    "## tkinter\n",
    "- 파이썬 내장된 GUI 라이브러리"
   ]
  },
  {
   "cell_type": "code",
   "execution_count": 2,
   "metadata": {},
   "outputs": [],
   "source": [
    "from tkinter import * # tinkter 가 선언되어있는 함수를 다 쓰겠다. : *  ## 해당코드 쉘이 실행 후 다음으로 넘어가야 순차적으로 정상적으로 작동함."
   ]
  },
  {
   "cell_type": "code",
   "execution_count": 3,
   "metadata": {},
   "outputs": [],
   "source": [
    "root = Tk() # tkinter 객체 생성\n",
    "\n",
    "root.mainloop() # 닫기아이콘을 클릭하기 전까지 무한루프!"
   ]
  },
  {
   "cell_type": "markdown",
   "metadata": {},
   "source": [
    "### 라벨 컨트롤\n",
    "- GUI 화면에 글자(문자열) 표현하는 컨트롤"
   ]
  },
  {
   "cell_type": "code",
   "execution_count": 4,
   "metadata": {},
   "outputs": [],
   "source": [
    "root = Tk() # root 가 Label 이라는 클래스의 부모\n",
    "\n",
    "label = Label(root, text='Hello Tkinter!')\n",
    "label.pack()    # 윈도우에 패킹(필수!)\n",
    "\n",
    "root.mainloop()"
   ]
  }
 ],
 "metadata": {
  "kernelspec": {
   "display_name": "Python 3",
   "language": "python",
   "name": "python3"
  },
  "language_info": {
   "codemirror_mode": {
    "name": "ipython",
    "version": 3
   },
   "file_extension": ".py",
   "mimetype": "text/x-python",
   "name": "python",
   "nbconvert_exporter": "python",
   "pygments_lexer": "ipython3",
   "version": "3.11.9"
  }
 },
 "nbformat": 4,
 "nbformat_minor": 2
}
